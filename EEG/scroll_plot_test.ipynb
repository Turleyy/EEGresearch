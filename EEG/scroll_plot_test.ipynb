{
 "cells": [
  {
   "cell_type": "code",
   "execution_count": 1,
   "metadata": {},
   "outputs": [],
   "source": [
    "import numpy as np\n",
    "import matplotlib.pyplot as plt\n",
    "from matplotlib.widgets import Slider"
   ]
  },
  {
   "cell_type": "code",
   "execution_count": 21,
   "metadata": {},
   "outputs": [
    {
     "name": "stdout",
     "output_type": "stream",
     "text": [
      "Warning: Cannot change to a different GUI toolkit: widget. Using qt instead.\n"
     ]
    }
   ],
   "source": [
    "# Setting Plot and Axis variables as subplots()\n",
    "# function returns tuple(fig, ax)\n",
    "%matplotlib widget\n",
    "Plot, Axis = plt.subplots()\n",
    " \n",
    "# Adjust the bottom size according to the\n",
    "# requirement of the user\n",
    "plt.subplots_adjust(bottom=0.25)\n",
    " \n",
    "# Set the x and y axis to some dummy data\n",
    "t = np.arange(0.0, 100.0, 0.1)\n",
    "s = np.sin(2*np.pi*t)\n",
    " \n",
    "# plot the x and y using plot function\n",
    "l = plt.plot(t, s)\n",
    " \n",
    "# Choose the Slider color\n",
    "slider_color = 'White'\n",
    " \n",
    "# Set the axis and slider position in the plot\n",
    "axis_position = plt.axes([0.2, 0.1, 0.65, 0.03], facecolor = slider_color)\n",
    "slider_position = Slider(axis_position,'Pos', 0.0, 90.0)\n",
    " \n",
    "# update() function to change the graph when the\n",
    "# slider is in use\n",
    "def update(val):\n",
    "    pos = slider_position.val\n",
    "    Axis.axis([pos, pos+10, -1, 1])\n",
    "    Plot.canvas.draw_idle()\n",
    " \n",
    "# update function called using on_changed() function\n",
    "slider_position.on_changed(update)\n",
    " \n",
    "# Display the plot\n",
    "plt.show()"
   ]
  }
 ],
 "metadata": {
  "kernelspec": {
   "display_name": "Python 3",
   "language": "python",
   "name": "python3"
  },
  "language_info": {
   "codemirror_mode": {
    "name": "ipython",
    "version": 3
   },
   "file_extension": ".py",
   "mimetype": "text/x-python",
   "name": "python",
   "nbconvert_exporter": "python",
   "pygments_lexer": "ipython3",
   "version": "3.11.6"
  }
 },
 "nbformat": 4,
 "nbformat_minor": 2
}
